{
 "cells": [
  {
   "cell_type": "markdown",
   "metadata": {},
   "source": [
    "# Image Web Scraping Tutorial"
   ]
  },
  {
   "cell_type": "markdown",
   "metadata": {},
   "source": [
    "In this tutorial, you will make use of the [_google_images_download_](https://pypi.org/project/google_images_download/) library to scrape images from the web. \n",
    "\n",
    "<div class=\"alert alert-block alert-info\">\n",
    "    \n",
    "<b>NB:</b> The **google_images_download** library must be used only for educational purposes to avoid copyright suits with regard to the downloaded images.\n",
    "\n",
    "</div>"
   ]
  },
  {
   "cell_type": "code",
   "execution_count": null,
   "metadata": {},
   "outputs": [],
   "source": [
    "#Importing the library\n",
    "\n",
    "from google_images_download import google_images_download   "
   ]
  },
  {
   "cell_type": "code",
   "execution_count": null,
   "metadata": {},
   "outputs": [],
   "source": [
    "#Class instantiation\n",
    "\n",
    "response = google_images_download.googleimagesdownload()   "
   ]
  },
  {
   "cell_type": "markdown",
   "metadata": {},
   "source": [
    "We will now build our search query. \n",
    "\n",
    "The keywords parameter denotes the keywords/key phrases you want to search for.\n",
    "\n",
    "Tips:\n",
    "\n",
    "- If you want to search for a phrase, you can wrap the keywords in double quotes (“”)\n",
    "- If you want to search to contain either of the words provided, use OR between the words.\n",
    "- If you want to explicitly not want a specific word use a minus sign before the word (-)\n"
   ]
  },
  {
   "cell_type": "code",
   "execution_count": null,
   "metadata": {},
   "outputs": [],
   "source": [
    "#Providing arguments for the searched query \n",
    "\n",
    "\n",
    "search_words = \"cheetah\"    # This does not have to be a single word\n",
    "\n",
    "# keywords -the search query words/phrase\n",
    "# limit - the number of images to be downloaded \n",
    "# print_urls - selects whether or not to print the image file url \n",
    "# image_directory - specifies the name of the internal folder for the downloaded images\n",
    "# NB: The name of the external folder is \"downloads\"\n",
    "# format - specifies the format/extension of the images that you want to download\n",
    "# chromedriver - passes the path to the chromedriver\n",
    "# NB: After the hackathon, if you wish to run this code locally on your computer you will have to install \n",
    "#chromedriver and provide the path\n",
    "#chromedriver path for Ubuntu -->   /usr/lib/chromium-browser/chromedriver\n",
    "#chromedriver path for Windows -->  C:\\path\\to\\chromedriver.exe\n",
    "\n",
    "\n",
    "arguments = {\"keywords\":search_words,          #creating list of arguments\n",
    "             \"limit\":20,\n",
    "             \"print_urls\":False,\n",
    "             \"image_directory\":'cheetah',\n",
    "             \"format\":'jpg',\n",
    "             \"chromedriver\":\"/usr/bin/chromedriver\"}    "
   ]
  },
  {
   "cell_type": "markdown",
   "metadata": {},
   "source": [
    " Next let's download the images based on the given arguments. It will take a few minutes for the images to download (~8 minutes for 200 images). The time [magic command](https://ipython.readthedocs.io/en/stable/interactive/magics.html) at the top of the cell will inform us of the runtime of this particular cell. Once it is finished running, your requested images should be available in a folder called \"downloads\"."
   ]
  },
  {
   "cell_type": "code",
   "execution_count": null,
   "metadata": {},
   "outputs": [],
   "source": [
    "%%time \n",
    "\n",
    "#Pass the arguments to the function\n",
    "response.download(arguments)  "
   ]
  }
 ],
 "metadata": {
  "kernelspec": {
   "display_name": "Python 3",
   "language": "python",
   "name": "python3"
  },
  "language_info": {
   "codemirror_mode": {
    "name": "ipython",
    "version": 3
   },
   "file_extension": ".py",
   "mimetype": "text/x-python",
   "name": "python",
   "nbconvert_exporter": "python",
   "pygments_lexer": "ipython3",
   "version": "3.7.9"
  }
 },
 "nbformat": 4,
 "nbformat_minor": 4
}
